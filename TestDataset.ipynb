{
 "cells": [
  {
   "cell_type": "code",
   "execution_count": 25,
   "metadata": {},
   "outputs": [
    {
     "name": "stdout",
     "output_type": "stream",
     "text": [
      "The autoreload extension is already loaded. To reload it, use:\n",
      "  %reload_ext autoreload\n"
     ]
    }
   ],
   "source": [
    "%load_ext autoreload\n",
    "%autoreload 2\n",
    "\n",
    "import dataset as ds\n",
    "import cv2 as cv2\n",
    "import random"
   ]
  },
  {
   "cell_type": "code",
   "execution_count": 26,
   "metadata": {},
   "outputs": [],
   "source": [
    "dataset = ds.AdversarialDataset()"
   ]
  },
  {
   "cell_type": "code",
   "execution_count": 27,
   "metadata": {},
   "outputs": [
    {
     "name": "stdout",
     "output_type": "stream",
     "text": [
      "118287\n"
     ]
    }
   ],
   "source": [
    "print(len(dataset))"
   ]
  },
  {
   "cell_type": "code",
   "execution_count": 35,
   "metadata": {},
   "outputs": [],
   "source": [
    "flag = True\n",
    "while (flag):\n",
    "    image, labels = dataset[random.randint(0,len(dataset))]\n",
    "\n",
    "    for l in labels:\n",
    "        image = cv2.rectangle(image, ( int(l[\"bbox\"][0]), int(l[\"bbox\"][1]) ), ( int(l[\"bbox\"][0])+int(l[\"bbox\"][2]),int(l[\"bbox\"][1])+int(l[\"bbox\"][3]) ), (255,0,0), 1)\n",
    "\n",
    "    cv2.imshow(\"image\", image)\n",
    "\n",
    "    while (True):\n",
    "        key = cv2.waitKey(1)\n",
    "        if key == 32:\n",
    "            cv2.destroyAllWindows() \n",
    "            break\n",
    "\n",
    "        if key & 0xFF == ord('q'):\n",
    "            flag = False\n",
    "            break\n",
    "  \n",
    "cv2.destroyAllWindows() "
   ]
  },
  {
   "cell_type": "code",
   "execution_count": null,
   "metadata": {},
   "outputs": [],
   "source": []
  }
 ],
 "metadata": {
  "interpreter": {
   "hash": "b2d769b0611aaa6c068c0119a1ada538e3a78d93ac59b96a484ef3c5a008ee0c"
  },
  "kernelspec": {
   "display_name": "Python 3.8.6 64-bit (system)",
   "name": "python3"
  },
  "language_info": {
   "codemirror_mode": {
    "name": "ipython",
    "version": 3
   },
   "file_extension": ".py",
   "mimetype": "text/x-python",
   "name": "python",
   "nbconvert_exporter": "python",
   "pygments_lexer": "ipython3",
   "version": "3.8.6"
  },
  "orig_nbformat": 4
 },
 "nbformat": 4,
 "nbformat_minor": 2
}
