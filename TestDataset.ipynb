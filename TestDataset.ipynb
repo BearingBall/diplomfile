{
 "cells": [
  {
   "cell_type": "code",
   "execution_count": 1,
   "metadata": {},
   "outputs": [],
   "source": [
    "%load_ext autoreload\n",
    "%autoreload 2\n",
    "\n",
    "import dataset as ds\n",
    "import cv2 as cv2\n",
    "import random"
   ]
  },
  {
   "cell_type": "code",
   "execution_count": 2,
   "metadata": {},
   "outputs": [],
   "source": [
    "dataset = ds.AdversarialDataset((480,640))"
   ]
  },
  {
   "cell_type": "code",
   "execution_count": 3,
   "metadata": {},
   "outputs": [
    {
     "name": "stdout",
     "output_type": "stream",
     "text": [
      "118287\n"
     ]
    }
   ],
   "source": [
    "print(len(dataset))"
   ]
  },
  {
   "cell_type": "code",
   "execution_count": 5,
   "metadata": {},
   "outputs": [],
   "source": [
    "flag = True\n",
    "while (flag):\n",
    "    image, labels = dataset[random.randint(0,len(dataset))]\n",
    "\n",
    "    for l in labels:\n",
    "        image = cv2.rectangle(image, ( int(l[0]), int(l[1]) ), ( int(l[0])+int(l[2]),int(l[1])+int(l[3]) ), (255,0,0), 1)\n",
    "\n",
    "    cv2.imshow(\"image\", image)\n",
    "\n",
    "    while (True):\n",
    "        key = cv2.waitKey(1)\n",
    "        if key == 32:\n",
    "            cv2.destroyAllWindows() \n",
    "            break\n",
    "\n",
    "        if key & 0xFF == ord('q'):\n",
    "            flag = False\n",
    "            break\n",
    "  \n",
    "cv2.destroyAllWindows() "
   ]
  },
  {
   "cell_type": "code",
   "execution_count": null,
   "metadata": {},
   "outputs": [],
   "source": []
  }
 ],
 "metadata": {
  "interpreter": {
   "hash": "b2d769b0611aaa6c068c0119a1ada538e3a78d93ac59b96a484ef3c5a008ee0c"
  },
  "kernelspec": {
   "display_name": "Python 3.8.6 64-bit (system)",
   "name": "python3"
  },
  "language_info": {
   "codemirror_mode": {
    "name": "ipython",
    "version": 3
   },
   "file_extension": ".py",
   "mimetype": "text/x-python",
   "name": "python",
   "nbconvert_exporter": "python",
   "pygments_lexer": "ipython3",
   "version": "3.8.6"
  },
  "orig_nbformat": 4
 },
 "nbformat": 4,
 "nbformat_minor": 2
}
