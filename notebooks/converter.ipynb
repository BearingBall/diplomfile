{
 "cells": [
  {
   "cell_type": "code",
   "execution_count": 49,
   "metadata": {},
   "outputs": [],
   "source": [
    "import os\n",
    "import numpy as np\n",
    "import cv2\n",
    "from glob import glob\n",
    "from tqdm import tqdm\n",
    "from skimage.measure import label, regionprops, find_contours\n",
    "import matplotlib.pyplot as plt"
   ]
  },
  {
   "cell_type": "code",
   "execution_count": 77,
   "metadata": {},
   "outputs": [
    {
     "name": "stdout",
     "output_type": "stream",
     "text": [
      "20210\n",
      "20210\n"
     ]
    }
   ],
   "source": [
    "imagesPrefix = \"../../ADEChallengeData2016/images/training\"\n",
    "masksPrefix = \"../../ADEChallengeData2016/annotations/training\"\n",
    "images = os.listdir(imagesPrefix)\n",
    "masks = os.listdir(masksPrefix) \n",
    "print(len(images))\n",
    "print(len(masks))"
   ]
  },
  {
   "cell_type": "code",
   "execution_count": 78,
   "metadata": {},
   "outputs": [],
   "source": [
    "images = sorted(images)\n",
    "masks = sorted(masks)\n",
    "images_path = [imagesPrefix + \"/\" + image for image in images]\n",
    "masks_path = [masksPrefix + \"/\" + mask for mask in masks]"
   ]
  },
  {
   "cell_type": "code",
   "execution_count": 79,
   "metadata": {},
   "outputs": [],
   "source": [
    "def mask_to_border(mask):\n",
    "    h, w = mask.shape\n",
    "    border = np.zeros((h, w))\n",
    "\n",
    "    contours = find_contours(mask, 128)\n",
    "    for contour in contours:\n",
    "        for c in contour:\n",
    "            x = int(c[0])\n",
    "            y = int(c[1])\n",
    "            border[x][y] = 255\n",
    "\n",
    "    return border\n",
    "\n",
    "\"\"\" Mask to bounding boxes \"\"\"\n",
    "def mask_to_bbox(mask):\n",
    "    bboxes = []\n",
    "\n",
    "    mask = mask_to_border(mask)\n",
    "    lbl = label(mask)\n",
    "    props = regionprops(lbl)\n",
    "    for prop in props:\n",
    "        x1 = prop.bbox[1]\n",
    "        y1 = prop.bbox[0]\n",
    "\n",
    "        x2 = prop.bbox[3]\n",
    "        y2 = prop.bbox[2]\n",
    "\n",
    "        bboxes.append([x1, y1, x2, y2])\n",
    "\n",
    "    return bboxes\n",
    "\n",
    "def parse_mask(mask):\n",
    "    mask = np.expand_dims(mask, axis=-1)\n",
    "    mask = np.concatenate([mask, mask, mask], axis=-1)\n",
    "    return mask\n",
    "\n",
    "\n",
    "def clearing_masks(mask):\n",
    "    mask[mask != 13] = 0\n",
    "    mask[mask == 13] = 255\n",
    "    return mask"
   ]
  },
  {
   "cell_type": "code",
   "execution_count": 83,
   "metadata": {},
   "outputs": [
    {
     "name": "stderr",
     "output_type": "stream",
     "text": [
      "0it [00:00, ?it/s]"
     ]
    },
    {
     "name": "stdout",
     "output_type": "stream",
     "text": [
      "[{'file_name': 'ADE_train_00000001.jpg', 'height': 512, 'width': 683, 'id': 0}]\n"
     ]
    },
    {
     "name": "stderr",
     "output_type": "stream",
     "text": [
      "\n"
     ]
    },
    {
     "data": {
      "text/plain": [
       "'\\n    clearing_masks(y)\\n\\n    bboxes = mask_to_bbox(y)\\n\\n    for bbox in bboxes:\\n        x = cv2.rectangle(x, (bbox[0], bbox[1]), (bbox[2], bbox[3]), (255, 0, 0), 2)\\n\\n    cat_image = np.concatenate([x, parse_mask(y)], axis=1)\\n\\n\\n\\n\\n        to_dump[\\'annotations\\'].append(\\n                    {\\n                        \\'segmentation\\': seg,\\n                        \\'area\\': area,\\n                        \\'iscrowd\\': 0,\\n                        \\'image_id\\': i,\\n                        \\'bbox\\': bbox,\\n                        \\'category_id\\': category_id,\\n                        \\'id\\': instance_counter,\\n                        \\'ignore\\': 0\\n                    }\\n                )\\n\\n    plt.imshow(cat_image)\\n    print(bboxes)\\n    #cv2.imwrite(f\"results/{name}.png\", cat_image)\\n    break\\n'"
      ]
     },
     "execution_count": 83,
     "metadata": {},
     "output_type": "execute_result"
    }
   ],
   "source": [
    "annotation = {\n",
    "    'images': [],\n",
    "    'annotations': []\n",
    "}\n",
    "\n",
    "for i, (image, mask, image_path, mask_path) in tqdm(enumerate(zip(images, masks, images_path, masks_path))):\n",
    "\n",
    "    img = cv2.imread(image_path, cv2.IMREAD_COLOR)\n",
    "    msk = cv2.imread(mask_path, cv2.IMREAD_GRAYSCALE)\n",
    "\n",
    "    annotation['images'].append(\n",
    "        {\n",
    "            'file_name': image,\n",
    "            'height': img.shape[0],\n",
    "            'width': img.shape[1],\n",
    "            'id': i\n",
    "        })\n",
    "    print(annotation['images'])\n",
    "\n",
    "    msk = clearing_masks(msk)\n",
    "\n",
    "    bboxes = mask_to_bbox(msk)\n",
    "\n",
    "    for bbox in bboxes:\n",
    "        x = cv2.rectangle(x, (bbox[0], bbox[1]), (bbox[2], bbox[3]), (255, 0, 0), 2)\n",
    "\n",
    "    cat_image = np.concatenate([x, parse_mask(y)], axis=1)\n",
    "\n",
    "\n",
    "\n",
    "\n",
    "        to_dump['annotations'].append(\n",
    "                    {\n",
    "                        'segmentation': seg,\n",
    "                        'area': area,\n",
    "                        'iscrowd': 0,\n",
    "                        'image_id': i,\n",
    "                        'bbox': bbox,\n",
    "                        'category_id': category_id,\n",
    "                        'id': instance_counter,\n",
    "                        'ignore': 0\n",
    "                    }\n",
    "                )\n",
    "\n",
    "    plt.imshow(cat_image)\n",
    "    print(bboxes)\n",
    "    #cv2.imwrite(f\"results/{name}.png\", cat_image)\n",
    "    break\n"
   ]
  },
  {
   "cell_type": "code",
   "execution_count": 48,
   "metadata": {},
   "outputs": [
    {
     "name": "stdout",
     "output_type": "stream",
     "text": [
      "../../ADEChallengeData2016/images/training/ADE_train_00000001.jpg\n",
      "../../ADEChallengeData2016/annotations/training/ADE_train_00000001.png\n",
      "[[[187 187 181]\n",
      "  [187 187 181]\n",
      "  [187 187 181]\n",
      "  ...\n",
      "  [179 179 173]\n",
      "  [179 179 173]\n",
      "  [179 179 173]]\n",
      "\n",
      " [[187 187 181]\n",
      "  [187 187 181]\n",
      "  [187 187 181]\n",
      "  ...\n",
      "  [178 178 172]\n",
      "  [178 178 172]\n",
      "  [178 178 172]]\n",
      "\n",
      " [[187 187 181]\n",
      "  [187 187 181]\n",
      "  [187 187 181]\n",
      "  ...\n",
      "  [178 178 172]\n",
      "  [178 178 172]\n",
      "  [178 178 172]]\n",
      "\n",
      " ...\n",
      "\n",
      " [[ 66  81  77]\n",
      "  [ 66  81  77]\n",
      "  [ 67  82  78]\n",
      "  ...\n",
      "  [ 55  49  42]\n",
      "  [ 55  49  42]\n",
      "  [ 55  49  42]]\n",
      "\n",
      " [[ 70  84  80]\n",
      "  [ 70  84  80]\n",
      "  [ 68  82  78]\n",
      "  ...\n",
      "  [ 52  46  39]\n",
      "  [ 52  46  39]\n",
      "  [ 52  46  39]]\n",
      "\n",
      " [[ 71  85  81]\n",
      "  [ 69  83  79]\n",
      "  [ 68  79  76]\n",
      "  ...\n",
      "  [ 53  47  40]\n",
      "  [ 53  47  40]\n",
      "  [ 53  47  40]]]\n",
      "[[0 0 0 ... 6 6 6]\n",
      " [0 0 6 ... 6 6 6]\n",
      " [0 0 6 ... 6 6 6]\n",
      " ...\n",
      " [4 4 4 ... 1 1 0]\n",
      " [4 4 4 ... 1 1 0]\n",
      " [4 4 4 ... 1 1 1]]\n"
     ]
    }
   ],
   "source": [
    "for x, y in zip(images, masks):\n",
    "    print(x)\n",
    "    print(y)\n",
    "    x = cv2.imread(x, cv2.IMREAD_COLOR)\n",
    "    y = cv2.imread(y, cv2.IMREAD_GRAYSCALE)\n",
    "    print(x)\n",
    "    print(y)\n",
    "    break"
   ]
  },
  {
   "cell_type": "code",
   "execution_count": 39,
   "metadata": {},
   "outputs": [
    {
     "data": {
      "text/plain": [
       "20210"
      ]
     },
     "execution_count": 39,
     "metadata": {},
     "output_type": "execute_result"
    }
   ],
   "source": [
    "len(images)"
   ]
  },
  {
   "cell_type": "code",
   "execution_count": null,
   "metadata": {},
   "outputs": [],
   "source": []
  }
 ],
 "metadata": {
  "interpreter": {
   "hash": "b2d769b0611aaa6c068c0119a1ada538e3a78d93ac59b96a484ef3c5a008ee0c"
  },
  "kernelspec": {
   "display_name": "Python 3.8.6 64-bit (system)",
   "language": "python",
   "name": "python3"
  },
  "language_info": {
   "codemirror_mode": {
    "name": "ipython",
    "version": 3
   },
   "file_extension": ".py",
   "mimetype": "text/x-python",
   "name": "python",
   "nbconvert_exporter": "python",
   "pygments_lexer": "ipython3",
   "version": "3.8.6"
  },
  "orig_nbformat": 4
 },
 "nbformat": 4,
 "nbformat_minor": 2
}
