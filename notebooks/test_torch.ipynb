{
 "cells": [
  {
   "cell_type": "code",
   "execution_count": 6,
   "metadata": {},
   "outputs": [
    {
     "name": "stdout",
     "output_type": "stream",
     "text": [
      "The autoreload extension is already loaded. To reload it, use:\n",
      "  %reload_ext autoreload\n",
      "1.10.0+cu113\n",
      "11.3\n",
      "0.11.1+cu113\n"
     ]
    }
   ],
   "source": [
    "%load_ext autoreload\n",
    "%autoreload 2\n",
    "\n",
    "import sys\n",
    "sys.path.append('../')\n",
    "\n",
    "import cv2 as cv2\n",
    "import numpy as np\n",
    "\n",
    "import torch\n",
    "import torch.hub\n",
    "\n",
    "import torchvision\n",
    "import torchvision.utils\n",
    "\n",
    "from data import dataset as data\n",
    "import data.utils as data_utils\n",
    "import attack_construction.attack_methods as attack_methods\n",
    "import attack_construction.metrics as metrics\n",
    "import attack_construction.utils as attack_utils\n",
    "\n",
    "print(torch.__version__)\n",
    "print(torch.cuda_version)\n",
    "print(torchvision.__version__)"
   ]
  },
  {
   "cell_type": "code",
   "execution_count": 17,
   "metadata": {},
   "outputs": [],
   "source": [
    "device = torch.device(\"cpu\")\n",
    "\n",
    "model = torchvision.models.detection.fasterrcnn_resnet50_fpn(pretrained=True)\n",
    "model.eval()\n",
    "model = model.float().to(device)\n",
    "\n",
    "dataset = data.AdversarialDataset() # todo: use resize to pull picture in batch\n",
    "\n",
    "patch = attack_utils.load_tensor(\"patch 40%\")"
   ]
  },
  {
   "cell_type": "code",
   "execution_count": null,
   "metadata": {},
   "outputs": [],
   "source": [
    "image, label = dataset[5]\n",
    "\n",
    "image_before, image_after = attack_utils.get_patch_test(patch, image, label, model, device, None, 0.8)\n",
    "\n",
    "cv2.imshow(\"patch\", cv2.cvtColor(np.concatenate((image_before/255, image_after/255), axis = 1), cv2.COLOR_RGB2BGR))\n",
    "\n",
    "key = cv2.waitKey(0)\n",
    "if key & 0xFF == ord('q'):\n",
    "    cv2.destroyAllWindows()"
   ]
  },
  {
   "cell_type": "code",
   "execution_count": null,
   "metadata": {},
   "outputs": [],
   "source": []
  }
 ],
 "metadata": {
  "interpreter": {
   "hash": "362d69d123881ce57a887ab45a3f9acb2a40ab5f881fb7cd46244a03df42c740"
  },
  "kernelspec": {
   "display_name": "Python 3.8.6 64-bit",
   "language": "python",
   "name": "python3"
  },
  "language_info": {
   "codemirror_mode": {
    "name": "ipython",
    "version": 3
   },
   "file_extension": ".py",
   "mimetype": "text/x-python",
   "name": "python",
   "nbconvert_exporter": "python",
   "pygments_lexer": "ipython3",
   "version": "3.8.6"
  },
  "orig_nbformat": 4
 },
 "nbformat": 4,
 "nbformat_minor": 2
}
